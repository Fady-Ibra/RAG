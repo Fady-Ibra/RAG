{
 "cells": [
  {
   "cell_type": "code",
   "execution_count": 1,
   "metadata": {
    "id": "ijGzTHJJUCPY",
    "tags": []
   },
   "outputs": [],
   "source": [
    "# Copyright 2024 Google LLC\n",
    "#\n",
    "# Licensed under the Apache License, Version 2.0 (the \"License\");\n",
    "# you may not use this file except in compliance with the License.\n",
    "# You may obtain a copy of the License at\n",
    "#\n",
    "#     https://www.apache.org/licenses/LICENSE-2.0\n",
    "#\n",
    "# Unless required by applicable law or agreed to in writing, software\n",
    "# distributed under the License is distributed on an \"AS IS\" BASIS,\n",
    "# WITHOUT WARRANTIES OR CONDITIONS OF ANY KIND, either express or implied.\n",
    "# See the License for the specific language governing permissions and\n",
    "# limitations under the License."
   ]
  },
  {
   "cell_type": "markdown",
   "metadata": {
    "id": "NDsTUvKjwHBW",
    "tags": []
   },
   "source": [
    "<!--\n",
    "<span style=\"font-size:2em;\">A Richer Knowledge Base for LLMs using mRAG</span> \n",
    "\n",
    "\n",
    "<table align=\"left\">\n",
    "  <td style=\"text-align: center\">\n",
    "    <a href=\"https://colab.research.google.com/github/Fady-Ibra/RAG/blob/master/mRAG.ipynb\">\n",
    "      <img width=\"32px\" src=\"https://www.gstatic.com/pantheon/images/bigquery/welcome_page/colab-logo.svg\" alt=\"Google Colaboratory logo\"><br> Run in Colab\n",
    "    </a>\n",
    "  </td>\n",
    "  <td style=\"text-align: center\">\n",
    "    <a href=\"https://console.cloud.google.com/vertex-ai/colab/import/https:%2F%2Fraw.githubusercontent.com%2FFady-Ibra%2FRAG%2Fmasterm%2FRAG.ipynb\">\n",
    "      <img width=\"32px\" src=\"https://lh3.googleusercontent.com/JmcxdQi-qOpctIvWKgPtrzZdJJK-J3sWE1RsfjZNwshCFgE_9fULcNpuXYTilIR2hjwN\" alt=\"Google Cloud Colab Enterprise logo\"><br> Run in Colab Enterprise\n",
    "    </a>\n",
    "  </td>\n",
    "  <td style=\"text-align: center\">\n",
    "    <a href=\"https://github.com/Fady-Ibra/RAG/mRAG.ipynb.ipynb\">\n",
    "      <img width=\"32px\" src=\"https://upload.wikimedia.org/wikipedia/commons/9/91/Octicons-mark-github.svg\" alt=\"GitHub logo\"><br> View on GitHub\n",
    "    </a>\n",
    "  </td>\n",
    "  <td style=\"text-align: center\">\n",
    "    <a href=\"https://console.cloud.google.com/vertex-ai/workbench/deploy-notebook?download_url=https://raw.githubusercontent.com/Fady-Ibra/RAG/master/mRAG.ipynb\">\n",
    "      <img src=\"https://www.gstatic.com/images/branding/gcpiconscolors/vertexai/v1/32px.svg\" alt=\"Vertex AI logo\"><br> Open in Vertex AI Workbench\n",
    "    </a>\n",
    "  </td>    \n",
    "</table>\n",
    "-->"
   ]
  },
  {
   "cell_type": "markdown",
   "metadata": {
    "id": "YR65ni7TRNYG"
   },
   "source": [
    "- Authors: [Lavi Nigam](https://github.com/lavinigam-gcp) & [Fady Ibrahim](https://github.com/Fady-Ibra)\n",
    "- Forked from: [Google Cloud Gen AI Repo](https://github.com/GoogleCloudPlatform/generative-ai/blob/main/gemini/qa-ops/building_DIY_multimodal_qa_system_with_mRAG.ipynb)"
   ]
  },
  {
   "cell_type": "markdown",
   "metadata": {
    "id": "VK1Q5ZYdVL4Y",
    "tags": [],
    "toc-hr-collapsed": true
   },
   "source": [
    "# What We will Do\n",
    "\n",
    "## Overview\n",
    "- We'll create a QA sys that understands both text and images\n",
    "- We'll build this system using Vertex AI\n",
    "\n",
    "* **Focus on Fundamentals**: We will start with the essential design pattern of \"Retrieval Augmented Generation\" (RAG) – a way to find and use relevant info to answer questions.\n",
    "* **Work with Text and Images**: We will expand RAG to handle both text and images found in PDF documents.\n",
    "* **Use Vertex AI**: We will use Vertex AI Embeddings API and Vertex AI Gemini API.\n",
    "\n",
    "By the end of this guide, we will have a solid foundation in building multimodal QA systems.\n",
    "\n",
    "## Gemini\n",
    "- Gemini is a family of GenAI models that is designed for multimodal use cases. \n",
    "- The Vertex AI Gemini API gives us access to:\n",
    "    - Gemini 1.0 Pro Model\n",
    "    - Gemini 1.0 Pro Vision Model\n",
    "    - Gemini 1.5 Pro Model\n",
    "    - Gemini 1.5 Flash Model\n",
    "\n",
    "## Comparing text-based and mRAG\n",
    "Multimodal RAG (mRAG) offers several advantages over text-based RAG:\n",
    "1. **Enhanced knowledge access:** mRAG can access and process both textual and visual info, providing a richer and more comprehensive knowledge base for the LLM.\n",
    "2. **Improved reasoning capabilities:** By incorporating visual cues, mRAG can make better informed inferences across different types of data modalities.\n",
    "\n",
    "## How to implement RAG \n",
    "We will implement RAG using:\n",
    "- Vertex AI Gemini API\n",
    "- Vertex AI Embeddings API\n",
    "  - [text embeddings](https://cloud.google.com/vertex-ai/docs/generative-ai/model-reference/text-embeddings)\n",
    "  - [multimodal embeddings](https://cloud.google.com/vertex-ai/docs/generative-ai/model-reference/multimodal-embeddings), to build a doc search engine.\n",
    "\n",
    "## Objectives\n",
    "This notebook provides a guide to building a doc search engine using mRAG, step by step:\n",
    "1. Extract and store metadata of docs containing both text and images, and generate embeddings the docs\n",
    "2. Search the metadata with text queries to find similar text or images\n",
    "3. Search the metadata with image queries to find similar images\n",
    "4. Using a text query as input, search for contextual answers using both text and images\n",
    "\n",
    "## Costs\n",
    "- [Vertex AI pricing](https://cloud.google.com/vertex-ai/pricing)\n",
    "- [Pricing Calculator](https://cloud.google.com/products/calculator) (generates a cost estimate)\n"
   ]
  },
  {
   "cell_type": "markdown",
   "metadata": {
    "id": "DXJpXzKrh2rJ",
    "tags": [],
    "toc-hr-collapsed": true
   },
   "source": [
    "# Getting Started\n",
    "## Install Vertex AI SDK and other dependencies\n",
    "**Next Command Explanation**\n",
    "- **!** to execute a command\n",
    "- **pip3** a Python Package Manager (with a recursive acronym PIP Installs Packages)\n",
    "- **--upgrade (-U)** INSTALL OPTIONS upgrade all packages to the newest available version\n",
    "- **--user** install packages in the user home directory (pip defaults to installing Python packages to a sys directory, as /usr/local/lib/python3.4, which requires root access)"
   ]
  },
  {
   "cell_type": "code",
   "execution_count": 2,
   "metadata": {
    "id": "kc4WxYmLSBW5",
    "tags": []
   },
   "outputs": [
    {
     "name": "stdout",
     "output_type": "stream",
     "text": [
      "Collecting google-cloud-aiplatform\n",
      "  Downloading google_cloud_aiplatform-1.61.0-py2.py3-none-any.whl.metadata (31 kB)\n",
      "Collecting protobuf!=4.21.0,!=4.21.1,!=4.21.2,!=4.21.3,!=4.21.4,!=4.21.5,<6.0.0dev,>=3.20.2 (from google-cloud-aiplatform)\n",
      "  Downloading protobuf-5.27.3-cp38-abi3-manylinux2014_x86_64.whl.metadata (592 bytes)\n",
      "  Downloading protobuf-3.20.3-cp310-cp310-manylinux_2_12_x86_64.manylinux2010_x86_64.whl.metadata (679 bytes)\n",
      "Downloading google_cloud_aiplatform-1.61.0-py2.py3-none-any.whl (5.1 MB)\n",
      "\u001b[2K   \u001b[90m━━━━━━━━━━━━━━━━━━━━━━━━━━━━━━━━━━━━━━━━\u001b[0m \u001b[32m5.1/5.1 MB\u001b[0m \u001b[31m19.6 MB/s\u001b[0m eta \u001b[36m0:00:00\u001b[0m00:01\u001b[0m00:01\u001b[0m\n",
      "\u001b[?25hDownloading protobuf-3.20.3-cp310-cp310-manylinux_2_12_x86_64.manylinux2010_x86_64.whl (1.1 MB)\n",
      "\u001b[2K   \u001b[90m━━━━━━━━━━━━━━━━━━━━━━━━━━━━━━━━━━━━━━━━\u001b[0m \u001b[32m1.1/1.1 MB\u001b[0m \u001b[31m50.4 MB/s\u001b[0m eta \u001b[36m0:00:00\u001b[0m\n",
      "\u001b[?25hInstalling collected packages: protobuf, google-cloud-aiplatform\n",
      "  Attempting uninstall: google-cloud-aiplatform\n",
      "    Found existing installation: google-cloud-aiplatform 1.60.0\n",
      "    Uninstalling google-cloud-aiplatform-1.60.0:\n",
      "      Successfully uninstalled google-cloud-aiplatform-1.60.0\n",
      "\u001b[33m  WARNING: The script tb-gcp-uploader is installed in '/home/jupyter/.local/bin' which is not on PATH.\n",
      "  Consider adding this directory to PATH or, if you prefer to suppress this warning, use --no-warn-script-location.\u001b[0m\u001b[33m\n",
      "\u001b[0m\u001b[31mERROR: pip's dependency resolver does not currently take into account all the packages that are installed. This behaviour is the source of the following dependency conflicts.\n",
      "apache-beam 2.46.0 requires grpcio!=1.48.0,<2,>=1.33.1, but you have grpcio 1.48.0 which is incompatible.\n",
      "google-cloud-pubsub 2.21.4 requires grpcio<2.0dev,>=1.51.3, but you have grpcio 1.48.0 which is incompatible.\n",
      "tensorflow 2.11.0 requires protobuf<3.20,>=3.9.2, but you have protobuf 3.20.3 which is incompatible.\n",
      "tensorflow-serving-api 2.11.0 requires protobuf<3.20,>=3.9.2, but you have protobuf 3.20.3 which is incompatible.\u001b[0m\u001b[31m\n",
      "\u001b[0mSuccessfully installed google-cloud-aiplatform-1.61.0 protobuf-3.20.3\n"
     ]
    }
   ],
   "source": [
    "!pip3 install --upgrade --user google-cloud-aiplatform | grep -v \"already satisfied\"\n",
    "!pip3 install --upgrade --user pymupdf                 | grep -v \"already satisfied\"\n",
    "!pip3 install --upgrade --user rich                    | grep -v \"already satisfied\""
   ]
  },
  {
   "attachments": {
    "e882374e-dcbc-46b4-b351-d3c3b2791d00.png": {
     "image/png": "[encoded data removed]"
    }
   },
   "cell_type": "markdown",
   "metadata": {
    "id": "R5Xep4W9lq-Z"
   },
   "source": [
    "### Restart the kernel\n",
    "- To use the newly installed packages, we must restart the kernel. \n",
    "- Restarting the kernel after installs so that our environment can access the new packages\n",
    "- To know more about the kernel, please check the image below ([image source](https://ipython.org/ipython-doc/3/development/how_ipython_works.html)).\n",
    "![notebook_components.png](attachment:e882374e-dcbc-46b4-b351-d3c3b2791d00.png)"
   ]
  },
  {
   "cell_type": "markdown",
   "metadata": {
    "id": "FtsU9Bw9h2rL"
   },
   "source": [
    "## Authenticate your notebook environment (Colab only)\n",
    "\n",
    "If you are running this notebook on Google Colab, run the following cell to authenticate your environment. This step is not required if you are using [Vertex AI Workbench](https://cloud.google.com/vertex-ai-workbench).\n"
   ]
  },
  {
   "cell_type": "code",
   "execution_count": 3,
   "metadata": {
    "id": "GpYEyLsOh2rL",
    "tags": []
   },
   "outputs": [],
   "source": [
    "import sys\n",
    "    \n",
    "if \"google.colab\" in sys.modules:\n",
    "    print(\"I am in Colab\")\n",
    "    from google.colab import auth\n",
    "    auth.authenticate_user() # Authenticate user to Google Cloud"
   ]
  },
  {
   "cell_type": "markdown",
   "metadata": {
    "id": "O1vKZZoEh2rL",
    "tags": []
   },
   "source": [
    "## Define Google Cloud project information\n"
   ]
  },
  {
   "cell_type": "code",
   "execution_count": 4,
   "metadata": {
    "colab": {
     "base_uri": "https://localhost:8080/"
    },
    "executionInfo": {
     "elapsed": 3,
     "status": "ok",
     "timestamp": 1717649555830,
     "user": {
      "displayName": "",
      "userId": ""
     },
     "user_tz": -330
    },
    "id": "gJqZ76rJh2rM",
    "outputId": "eef6a25d-f66d-403c-b420-82c541f52ec1",
    "tags": []
   },
   "outputs": [
    {
     "name": "stdout",
     "output_type": "stream",
     "text": [
      "Cmd Output: ['ai-gcp-demos']\n",
      "Project ID: ai-gcp-demos\n"
     ]
    }
   ],
   "source": [
    "import sys\n",
    "\n",
    "PROJECT_ID = \"\"  \n",
    "LOCATION = \"us-central1\" \n",
    "\n",
    "# if not running on Colab, try to get the PROJECT_ID automatically\n",
    "if \"google.colab\" not in sys.modules:\n",
    "    CMD_OUTPUT = !gcloud config get-value project\n",
    "    PROJECT_ID = CMD_OUTPUT[0]\n",
    "\n",
    "print(f\"Cmd Output: {CMD_OUTPUT}\")\n",
    "print(f\"Project ID: {PROJECT_ID}\")"
   ]
  },
  {
   "cell_type": "code",
   "execution_count": 5,
   "metadata": {
    "id": "D48gUW5-h2rM",
    "tags": []
   },
   "outputs": [],
   "source": [
    "import vertexai\n",
    "\n",
    "vertexai.init(project=PROJECT_ID, location=LOCATION)"
   ]
  },
  {
   "cell_type": "markdown",
   "metadata": {
    "id": "r-TX_R_xh2rM",
    "tags": []
   },
   "source": [
    "## Load Gemini models"
   ]
  },
  {
   "cell_type": "code",
   "execution_count": 6,
   "metadata": {
    "id": "SvMwSRJJh2rM",
    "tags": []
   },
   "outputs": [],
   "source": [
    "from vertexai.generative_models import GenerativeModel\n",
    "from vertexai.language_models import TextEmbeddingModel\n",
    "from vertexai.vision_models import MultiModalEmbeddingModel\n",
    "\n",
    "# Text model: works with: \n",
    "#   1) text, code\n",
    "model_10p   = GenerativeModel(\"gemini-1.0-pro\") \n",
    "\n",
    "# Multimodal models: works with \n",
    "#   1) text, code, \n",
    "#   2) video(without audio), and \n",
    "#   3) images \n",
    "# with 16k input context\n",
    "model_10pv  = GenerativeModel(\"gemini-1.0-pro-vision-001\") \n",
    "\n",
    "# Multimodal models: works with \n",
    "#   1) text, code, \n",
    "#   2) images, \n",
    "#   3) video(with or without audio) and \n",
    "#   4) audio(mp3) \n",
    "# with 2M or 1M input context \n",
    "# Choose based on performance/cost needs\n",
    "model_15p = GenerativeModel(\"gemini-1.5-pro-001\")   \n",
    "model_15f = GenerativeModel(\"gemini-1.5-flash-001\") \n",
    "\n",
    "# Load text embedding model from pre-trained source\n",
    "model_tEMB = TextEmbeddingModel.from_pretrained(\"text-embedding-004\")\n",
    "\n",
    "# Load multimodal embedding model from pre-trained source\n",
    "# works with \n",
    "#   1) image, \n",
    "#   2) image with caption(~32 words), \n",
    "#   3) video, \n",
    "#   4) video with caption(~32 words)\n",
    "model_mEMB = MultiModalEmbeddingModel.from_pretrained(\"multimodalembedding\")"
   ]
  },
  {
   "cell_type": "markdown",
   "metadata": {
    "id": "g7bKCQMFT7JT"
   },
   "source": [
    "## Get documents and images from GCS\n",
    "**gcloud storage rsync**\n",
    "makes the contents under the destination the same as the contents under the source, by\n",
    "- copying any missing files/objects (or those whose data has changed), and \n",
    "- (if the -d option is specified) deleting any extra files/objects\n",
    "\n",
    "**Options of the command:**\n",
    "- **--quiet (-q)** Top-level option for the gcloud CLI that disables all interactive prompts when running gcloud CLI commands and is useful for scripting. \n",
    "- **-r** to copy an entire directory tree"
   ]
  },
  {
   "cell_type": "code",
   "execution_count": 7,
   "metadata": {
    "id": "KwbL89zcY39N",
    "tags": []
   },
   "outputs": [
    {
     "name": "stdout",
     "output_type": "stream",
     "text": [
      "At file://./**, worker process 107033 thread 140185273149248 listed 43...\n",
      "At gs://github-repo/rag/intro_multimodal_rag/intro_multimodal_rag_v2/**, worker process 107033 thread 140185273149248 listed 90...\n",
      "Copying gs://github-repo/rag/intro_multimodal_rag/intro_multimodal_rag_v2/data/med_gemini.pdf to file://./data/med_gemini.pdf\n",
      "Copying gs://github-repo/rag/intro_multimodal_rag/intro_multimodal_rag_v2/images/Google Cloud TPU blog.pdf_image_11_0_62.jpeg to file://./images/Google Cloud TPU blog.pdf_image_11_0_62.jpeg\n",
      "Copying gs://github-repo/rag/intro_multimodal_rag/intro_multimodal_rag_v2/images/Google Cloud TPU blog.pdf_image_11_1_63.jpeg to file://./images/Google Cloud TPU blog.pdf_image_11_1_63.jpeg\n",
      "Copying gs://github-repo/rag/intro_multimodal_rag/intro_multimodal_rag_v2/images/Google Cloud TPU blog.pdf_image_12_0_66.jpeg to file://./images/Google Cloud TPU blog.pdf_image_12_0_66.jpeg\n",
      "Copying gs://github-repo/rag/intro_multimodal_rag/intro_multimodal_rag_v2/images/Google Cloud TPU blog.pdf_image_13_0_69.jpeg to file://./images/Google Cloud TPU blog.pdf_image_13_0_69.jpeg\n",
      "Copying gs://github-repo/rag/intro_multimodal_rag/intro_multimodal_rag_v2/images/Google Cloud TPU blog.pdf_image_14_0_72.jpeg to file://./images/Google Cloud TPU blog.pdf_image_14_0_72.jpeg\n",
      "Copying gs://github-repo/rag/intro_multimodal_rag/intro_multimodal_rag_v2/images/Google Cloud TPU blog.pdf_image_15_0_75.jpeg to file://./images/Google Cloud TPU blog.pdf_image_15_0_75.jpeg\n",
      "Copying gs://github-repo/rag/intro_multimodal_rag/intro_multimodal_rag_v2/images/Google Cloud TPU blog.pdf_image_1_0_10.jpeg to file://./images/Google Cloud TPU blog.pdf_image_1_0_10.jpeg\n",
      "Copying gs://github-repo/rag/intro_multimodal_rag/intro_multimodal_rag_v2/images/Google Cloud TPU blog.pdf_image_3_0_18.jpeg to file://./images/Google Cloud TPU blog.pdf_image_3_0_18.jpeg\n",
      "Copying gs://github-repo/rag/intro_multimodal_rag/intro_multimodal_rag_v2/images/Google Cloud TPU blog.pdf_image_6_0_35.jpeg to file://./images/Google Cloud TPU blog.pdf_image_6_0_35.jpeg\n",
      "Copying gs://github-repo/rag/intro_multimodal_rag/intro_multimodal_rag_v2/images/gemini_v1_5_report_technical.pdf_image_0_0_1910.jpeg to file://./images/gemini_v1_5_report_technical.pdf_image_0_0_1910.jpeg\n",
      "Copying gs://github-repo/rag/intro_multimodal_rag/intro_multimodal_rag_v2/images/gemini_v1_5_report_technical.pdf_image_24_0_488.jpeg to file://./images/gemini_v1_5_report_technical.pdf_image_24_0_488.jpeg\n",
      "Copying gs://github-repo/rag/intro_multimodal_rag/intro_multimodal_rag_v2/images/gemini_v1_5_report_technical.pdf_image_44_0_606.jpeg to file://./images/gemini_v1_5_report_technical.pdf_image_44_0_606.jpeg\n",
      "Copying gs://github-repo/rag/intro_multimodal_rag/intro_multimodal_rag_v2/images/gemini_v1_5_report_technical.pdf_image_4_0_142.jpeg to file://./images/gemini_v1_5_report_technical.pdf_image_4_0_142.jpeg\n",
      "Copying gs://github-repo/rag/intro_multimodal_rag/intro_multimodal_rag_v2/images/gemini_v1_5_report_technical.pdf_image_4_1_143.jpeg to file://./images/gemini_v1_5_report_technical.pdf_image_4_1_143.jpeg\n",
      "Copying gs://github-repo/rag/intro_multimodal_rag/intro_multimodal_rag_v2/images/gemini_v1_5_report_technical.pdf_image_5_0_148.jpeg to file://./images/gemini_v1_5_report_technical.pdf_image_5_0_148.jpeg\n",
      "Copying gs://github-repo/rag/intro_multimodal_rag/intro_multimodal_rag_v2/images/gemini_v1_5_report_technical.pdf_image_5_1_149.jpeg to file://./images/gemini_v1_5_report_technical.pdf_image_5_1_149.jpeg\n",
      "Copying gs://github-repo/rag/intro_multimodal_rag/intro_multimodal_rag_v2/images/gemma_technical_paper.pdf_image_0_0_153.jpeg to file://./images/gemma_technical_paper.pdf_image_0_0_153.jpeg\n",
      "Copying gs://github-repo/rag/intro_multimodal_rag/intro_multimodal_rag_v2/images/med_gemini.pdf_image_0_0_46.jpeg to file://./images/med_gemini.pdf_image_0_0_46.jpeg\n",
      "Copying gs://github-repo/rag/intro_multimodal_rag/intro_multimodal_rag_v2/images/med_gemini.pdf_image_0_1_48.jpeg to file://./images/med_gemini.pdf_image_0_1_48.jpeg\n",
      "Copying gs://github-repo/rag/intro_multimodal_rag/intro_multimodal_rag_v2/images/med_gemini.pdf_image_15_0_464.jpeg to file://./images/med_gemini.pdf_image_15_0_464.jpeg\n",
      "Copying gs://github-repo/rag/intro_multimodal_rag/intro_multimodal_rag_v2/images/med_gemini.pdf_image_15_1_465.jpeg to file://./images/med_gemini.pdf_image_15_1_465.jpeg\n",
      "Copying gs://github-repo/rag/intro_multimodal_rag/intro_multimodal_rag_v2/images/med_gemini.pdf_image_16_0_480.jpeg to file://./images/med_gemini.pdf_image_16_0_480.jpeg\n",
      "Copying gs://github-repo/rag/intro_multimodal_rag/intro_multimodal_rag_v2/images/med_gemini.pdf_image_16_1_481.jpeg to file://./images/med_gemini.pdf_image_16_1_481.jpeg\n",
      "Copying gs://github-repo/rag/intro_multimodal_rag/intro_multimodal_rag_v2/images/med_gemini.pdf_image_18_0_573.jpeg to file://./images/med_gemini.pdf_image_18_0_573.jpeg\n",
      "Copying gs://github-repo/rag/intro_multimodal_rag/intro_multimodal_rag_v2/images/med_gemini.pdf_image_18_1_575.jpeg to file://./images/med_gemini.pdf_image_18_1_575.jpeg\n",
      "Copying gs://github-repo/rag/intro_multimodal_rag/intro_multimodal_rag_v2/images/med_gemini.pdf_image_18_2_576.jpeg to file://./images/med_gemini.pdf_image_18_2_576.jpeg\n",
      "Copying gs://github-repo/rag/intro_multimodal_rag/intro_multimodal_rag_v2/images/med_gemini.pdf_image_18_3_578.jpeg to file://./images/med_gemini.pdf_image_18_3_578.jpeg\n",
      "Copying gs://github-repo/rag/intro_multimodal_rag/intro_multimodal_rag_v2/images/med_gemini.pdf_image_19_0_613.jpeg to file://./images/med_gemini.pdf_image_19_0_613.jpeg\n",
      "Copying gs://github-repo/rag/intro_multimodal_rag/intro_multimodal_rag_v2/images/med_gemini.pdf_image_19_1_615.jpeg to file://./images/med_gemini.pdf_image_19_1_615.jpeg\n",
      "Copying gs://github-repo/rag/intro_multimodal_rag/intro_multimodal_rag_v2/images/med_gemini.pdf_image_19_2_617.jpeg to file://./images/med_gemini.pdf_image_19_2_617.jpeg\n",
      "Copying gs://github-repo/rag/intro_multimodal_rag/intro_multimodal_rag_v2/images/med_gemini.pdf_image_19_3_618.jpeg to file://./images/med_gemini.pdf_image_19_3_618.jpeg\n",
      "Copying gs://github-repo/rag/intro_multimodal_rag/intro_multimodal_rag_v2/images/med_gemini.pdf_image_1_0_73.jpeg to file://./images/med_gemini.pdf_image_1_0_73.jpeg\n",
      "Copying gs://github-repo/rag/intro_multimodal_rag/intro_multimodal_rag_v2/images/med_gemini.pdf_image_1_1_75.jpeg to file://./images/med_gemini.pdf_image_1_1_75.jpeg\n",
      "Copying gs://github-repo/rag/intro_multimodal_rag/intro_multimodal_rag_v2/images/med_gemini.pdf_image_1_2_77.jpeg to file://./images/med_gemini.pdf_image_1_2_77.jpeg\n",
      "Copying gs://github-repo/rag/intro_multimodal_rag/intro_multimodal_rag_v2/images/med_gemini.pdf_image_1_3_79.jpeg to file://./images/med_gemini.pdf_image_1_3_79.jpeg\n",
      "Copying gs://github-repo/rag/intro_multimodal_rag/intro_multimodal_rag_v2/images/med_gemini.pdf_image_1_4_81.jpeg to file://./images/med_gemini.pdf_image_1_4_81.jpeg\n",
      "Copying gs://github-repo/rag/intro_multimodal_rag/intro_multimodal_rag_v2/images/med_gemini.pdf_image_1_5_83.jpeg to file://./images/med_gemini.pdf_image_1_5_83.jpeg\n",
      "Copying gs://github-repo/rag/intro_multimodal_rag/intro_multimodal_rag_v2/images/med_gemini.pdf_image_1_6_84.jpeg to file://./images/med_gemini.pdf_image_1_6_84.jpeg\n",
      "Copying gs://github-repo/rag/intro_multimodal_rag/intro_multimodal_rag_v2/images/med_gemini.pdf_image_1_7_86.jpeg to file://./images/med_gemini.pdf_image_1_7_86.jpeg\n",
      "Copying gs://github-repo/rag/intro_multimodal_rag/intro_multimodal_rag_v2/images/med_gemini.pdf_image_21_0_681.jpeg to file://./images/med_gemini.pdf_image_21_0_681.jpeg\n",
      "Copying gs://github-repo/rag/intro_multimodal_rag/intro_multimodal_rag_v2/images/med_gemini.pdf_image_23_0_726.jpeg to file://./images/med_gemini.pdf_image_23_0_726.jpeg\n",
      "Copying gs://github-repo/rag/intro_multimodal_rag/intro_multimodal_rag_v2/images/med_gemini.pdf_image_23_1_727.jpeg to file://./images/med_gemini.pdf_image_23_1_727.jpeg\n",
      "Copying gs://github-repo/rag/intro_multimodal_rag/intro_multimodal_rag_v2/images/med_gemini.pdf_image_23_2_728.jpeg to file://./images/med_gemini.pdf_image_23_2_728.jpeg\n",
      "Copying gs://github-repo/rag/intro_multimodal_rag/intro_multimodal_rag_v2/images/med_gemini.pdf_image_24_0_752.jpeg to file://./images/med_gemini.pdf_image_24_0_752.jpeg\n",
      "Copying gs://github-repo/rag/intro_multimodal_rag/intro_multimodal_rag_v2/images/med_gemini.pdf_image_24_1_754.jpeg to file://./images/med_gemini.pdf_image_24_1_754.jpeg\n",
      "Copying gs://github-repo/rag/intro_multimodal_rag/intro_multimodal_rag_v2/images/med_gemini.pdf_image_24_2_780.jpeg to file://./images/med_gemini.pdf_image_24_2_780.jpeg\n",
      "Copying gs://github-repo/rag/intro_multimodal_rag/intro_multimodal_rag_v2/images/med_gemini.pdf_image_24_3_782.jpeg to file://./images/med_gemini.pdf_image_24_3_782.jpeg\n",
      "Copying gs://github-repo/rag/intro_multimodal_rag/intro_multimodal_rag_v2/images/med_gemini.pdf_image_24_4_783.jpeg to file://./images/med_gemini.pdf_image_24_4_783.jpeg\n",
      "Copying gs://github-repo/rag/intro_multimodal_rag/intro_multimodal_rag_v2/images/med_gemini.pdf_image_25_0_812.jpeg to file://./images/med_gemini.pdf_image_25_0_812.jpeg\n",
      "Copying gs://github-repo/rag/intro_multimodal_rag/intro_multimodal_rag_v2/images/med_gemini.pdf_image_25_1_813.jpeg to file://./images/med_gemini.pdf_image_25_1_813.jpeg\n",
      "Copying gs://github-repo/rag/intro_multimodal_rag/intro_multimodal_rag_v2/images/med_gemini.pdf_image_25_2_815.jpeg to file://./images/med_gemini.pdf_image_25_2_815.jpeg\n",
      "Copying gs://github-repo/rag/intro_multimodal_rag/intro_multimodal_rag_v2/images/med_gemini.pdf_image_25_3_817.jpeg to file://./images/med_gemini.pdf_image_25_3_817.jpeg\n",
      "Copying gs://github-repo/rag/intro_multimodal_rag/intro_multimodal_rag_v2/images/med_gemini.pdf_image_25_4_819.jpeg to file://./images/med_gemini.pdf_image_25_4_819.jpeg\n",
      "Copying gs://github-repo/rag/intro_multimodal_rag/intro_multimodal_rag_v2/images/med_gemini.pdf_image_25_5_820.jpeg to file://./images/med_gemini.pdf_image_25_5_820.jpeg\n",
      "Copying gs://github-repo/rag/intro_multimodal_rag/intro_multimodal_rag_v2/images/med_gemini.pdf_image_26_0_849.jpeg to file://./images/med_gemini.pdf_image_26_0_849.jpeg\n",
      "Copying gs://github-repo/rag/intro_multimodal_rag/intro_multimodal_rag_v2/images/med_gemini.pdf_image_26_1_851.jpeg to file://./images/med_gemini.pdf_image_26_1_851.jpeg\n",
      "Copying gs://github-repo/rag/intro_multimodal_rag/intro_multimodal_rag_v2/images/med_gemini.pdf_image_26_2_853.jpeg to file://./images/med_gemini.pdf_image_26_2_853.jpeg\n",
      "⠛Copying gs://github-repo/rag/intro_multimodal_rag/intro_multimodal_rag_v2/images/med_gemini.pdf_image_26_3_855.jpeg to file://./images/med_gemini.pdf_image_26_3_855.jpeg\n",
      "Copying gs://github-repo/rag/intro_multimodal_rag/intro_multimodal_rag_v2/images/med_gemini.pdf_image_27_0_890.jpeg to file://./images/med_gemini.pdf_image_27_0_890.jpeg\n",
      "Copying gs://github-repo/rag/intro_multimodal_rag/intro_multimodal_rag_v2/images/med_gemini.pdf_image_27_10_903.jpeg to file://./images/med_gemini.pdf_image_27_10_903.jpeg\n",
      "Copying gs://github-repo/rag/intro_multimodal_rag/intro_multimodal_rag_v2/images/med_gemini.pdf_image_27_11_905.jpeg to file://./images/med_gemini.pdf_image_27_11_905.jpeg\n",
      "Copying gs://github-repo/rag/intro_multimodal_rag/intro_multimodal_rag_v2/images/med_gemini.pdf_image_27_12_907.jpeg to file://./images/med_gemini.pdf_image_27_12_907.jpeg\n",
      "Copying gs://github-repo/rag/intro_multimodal_rag/intro_multimodal_rag_v2/images/med_gemini.pdf_image_27_13_909.jpeg to file://./images/med_gemini.pdf_image_27_13_909.jpeg\n",
      "Copying gs://github-repo/rag/intro_multimodal_rag/intro_multimodal_rag_v2/images/med_gemini.pdf_image_27_14_910.jpeg to file://./images/med_gemini.pdf_image_27_14_910.jpeg\n",
      "Copying gs://github-repo/rag/intro_multimodal_rag/intro_multimodal_rag_v2/images/med_gemini.pdf_image_27_15_911.jpeg to file://./images/med_gemini.pdf_image_27_15_911.jpeg\n",
      "Copying gs://github-repo/rag/intro_multimodal_rag/intro_multimodal_rag_v2/images/med_gemini.pdf_image_27_16_912.jpeg to file://./images/med_gemini.pdf_image_27_16_912.jpeg\n",
      "Copying gs://github-repo/rag/intro_multimodal_rag/intro_multimodal_rag_v2/images/med_gemini.pdf_image_27_17_913.jpeg to file://./images/med_gemini.pdf_image_27_17_913.jpeg\n",
      "Copying gs://github-repo/rag/intro_multimodal_rag/intro_multimodal_rag_v2/images/med_gemini.pdf_image_27_18_914.jpeg to file://./images/med_gemini.pdf_image_27_18_914.jpeg\n",
      "Copying gs://github-repo/rag/intro_multimodal_rag/intro_multimodal_rag_v2/images/med_gemini.pdf_image_27_1_891.jpeg to file://./images/med_gemini.pdf_image_27_1_891.jpeg\n",
      "⠹Copying gs://github-repo/rag/intro_multimodal_rag/intro_multimodal_rag_v2/images/med_gemini.pdf_image_27_2_892.jpeg to file://./images/med_gemini.pdf_image_27_2_892.jpeg\n",
      "Copying gs://github-repo/rag/intro_multimodal_rag/intro_multimodal_rag_v2/images/med_gemini.pdf_image_27_3_893.jpeg to file://./images/med_gemini.pdf_image_27_3_893.jpeg\n",
      "Copying gs://github-repo/rag/intro_multimodal_rag/intro_multimodal_rag_v2/images/med_gemini.pdf_image_27_4_894.jpeg to file://./images/med_gemini.pdf_image_27_4_894.jpeg\n",
      "Copying gs://github-repo/rag/intro_multimodal_rag/intro_multimodal_rag_v2/images/med_gemini.pdf_image_27_5_895.jpeg to file://./images/med_gemini.pdf_image_27_5_895.jpeg\n",
      "Copying gs://github-repo/rag/intro_multimodal_rag/intro_multimodal_rag_v2/images/med_gemini.pdf_image_27_6_896.jpeg to file://./images/med_gemini.pdf_image_27_6_896.jpeg\n",
      "Copying gs://github-repo/rag/intro_multimodal_rag/intro_multimodal_rag_v2/images/med_gemini.pdf_image_27_7_897.jpeg to file://./images/med_gemini.pdf_image_27_7_897.jpeg\n",
      "Copying gs://github-repo/rag/intro_multimodal_rag/intro_multimodal_rag_v2/images/med_gemini.pdf_image_27_8_899.jpeg to file://./images/med_gemini.pdf_image_27_8_899.jpeg\n",
      "Copying gs://github-repo/rag/intro_multimodal_rag/intro_multimodal_rag_v2/images/med_gemini.pdf_image_27_9_901.jpeg to file://./images/med_gemini.pdf_image_27_9_901.jpeg\n",
      "Copying gs://github-repo/rag/intro_multimodal_rag/intro_multimodal_rag_v2/images/med_gemini.pdf_image_55_0_1493.jpeg to file://./images/med_gemini.pdf_image_55_0_1493.jpeg\n",
      "⠼Copying gs://github-repo/rag/intro_multimodal_rag/intro_multimodal_rag_v2/images/med_gemini.pdf_image_55_1_1494.jpeg to file://./images/med_gemini.pdf_image_55_1_1494.jpeg\n",
      "Copying gs://github-repo/rag/intro_multimodal_rag/intro_multimodal_rag_v2/images/med_gemini.pdf_image_55_2_1495.jpeg to file://./images/med_gemini.pdf_image_55_2_1495.jpeg\n",
      "Copying gs://github-repo/rag/intro_multimodal_rag/intro_multimodal_rag_v2/images/med_gemini.pdf_image_55_3_1496.jpeg to file://./images/med_gemini.pdf_image_55_3_1496.jpeg\n",
      "Copying gs://github-repo/rag/intro_multimodal_rag/intro_multimodal_rag_v2/images/med_gemini.pdf_image_55_4_1497.jpeg to file://./images/med_gemini.pdf_image_55_4_1497.jpeg\n",
      "Copying gs://github-repo/rag/intro_multimodal_rag/intro_multimodal_rag_v2/images/med_gemini.pdf_image_55_5_1498.jpeg to file://./images/med_gemini.pdf_image_55_5_1498.jpeg\n",
      "Copying gs://github-repo/rag/intro_multimodal_rag/intro_multimodal_rag_v2/images/med_gemini.pdf_image_55_6_1499.jpeg to file://./images/med_gemini.pdf_image_55_6_1499.jpeg\n",
      "  Completed files 85/85 | 16.9MiB/16.9MiB                                      \n",
      "\n",
      "Average throughput: 13.5MiB/s\n"
     ]
    }
   ],
   "source": [
    "# download documents and images used in this notebook\n",
    "!gcloud -q storage rsync -r gs://github-repo/rag/intro_multimodal_rag/intro_multimodal_rag_v2 .\n",
    "#!rm -f data/Google\\ Cloud\\ TPU\\ blog.pdf\n",
    "!rm -f data/med_gemini.pdf"
   ]
  },
  {
   "cell_type": "markdown",
   "metadata": {
    "id": "V7uv_PVR1T6B",
    "tags": [],
    "toc-hr-collapsed": true
   },
   "source": [
    "# Building metadata of documents containing text and images\n",
    "\n",
    "## The data\n",
    "The source data that we will use in this notebook are:\n",
    "\n",
    "* [Google Cloud TPU Scaling blog](https://storage.googleapis.com/github-repo/rag/intro_multimodal_rag/data/Google%20Cloud%20TPU%20blog.pdf)\n",
    "* [Gemini 1.5 Technical Report](https://storage.googleapis.com/github-repo/rag/intro_multimodal_rag/data/gemini_v1_5_report_technical.pdf)\n",
    "* [Google Gemma Technical Paper](https://storage.googleapis.com/github-repo/rag/intro_multimodal_rag/data/gemma_technical_paper.pdf)\n",
    "* [Med-Gemini Technical Paper](https://storage.googleapis.com/github-repo/rag/intro_multimodal_rag/data/med_gemini.pdf)\n",
    "\n",
    "We can also use other data, by deleting the current files and then placing new files in the `data` folder"
   ]
  },
  {
   "cell_type": "markdown",
   "metadata": {
    "id": "5BOAkYN0KlSL"
   },
   "source": [
    "## Extract and store metadata of text and images from a document\n",
    "- The function `get_document_metadata()` extracts text and image metadata from a document, and returns two dataframes, namely *text_metadata* and *image_metadata*. \n",
    "- To know more about how `get_document_metadata()` is implemented using Gemini and the embedding models, please check the [source code](https://github.com/GoogleCloudPlatform/generative-ai/blob/main/gemini/use-cases/retrieval-augmented-generation/utils/intro_multimodal_rag_utils.py).\n",
    "\n",
    "- At the next step, we will use the function to extract and store metadata of text and images from a document. \n",
    "- NOTE: We are loading 4 files with roughly 200 pages and approximately 84 images, the cell below  may take a few minutes to complete. We recommend loading pre-computed metadata instead.\n"
   ]
  },
  {
   "cell_type": "code",
   "execution_count": 8,
   "metadata": {
    "tags": []
   },
   "outputs": [],
   "source": [
    "import time\n",
    "from vertexai.generative_models import GenerationConfig, HarmCategory, HarmBlockThreshold\n",
    "from multimodal_qa_with_rag_utils import get_document_metadata\n",
    "from multimodal_qa_with_rag_utils import set_global_variable\n",
    "\n",
    "set_global_variable(\"text_embedding_model\", model_tEMB)\n",
    "set_global_variable(\"multimodal_embedding_model\", model_mEMB) "
   ]
  },
  {
   "cell_type": "code",
   "execution_count": null,
   "metadata": {
    "colab": {
     "base_uri": "https://localhost:8080/"
    },
    "executionInfo": {
     "elapsed": 350026,
     "status": "ok",
     "timestamp": 1717656088393,
     "user": {
      "displayName": "",
      "userId": ""
     },
     "user_tz": -330
    },
    "id": "X8hE0tWD-lf8",
    "outputId": "b094eb22-7c78-41eb-d17c-557631142354",
    "tags": []
   },
   "outputs": [
    {
     "name": "stdout",
     "output_type": "stream",
     "text": [
      "\n",
      "\n",
      " Processing the file: --------------------------------- data/gemini_v1_5_report_technical.pdf \n",
      "\n",
      "\n",
      "Processing page: 1\n",
      "Extracting image from page: 1, saved as: images/gemini_v1_5_report_technical.pdf_image_0_0_1910.jpeg\n",
      "Sleeping for  12  sec before processing the next page to avoid quota issues. You can disable it: \"add_sleep_after_page = False\"  \n",
      "Processing page: 2\n",
      "Sleeping for  12  sec before processing the next page to avoid quota issues. You can disable it: \"add_sleep_after_page = False\"  \n",
      "Processing page: 3\n",
      "Sleeping for  12  sec before processing the next page to avoid quota issues. You can disable it: \"add_sleep_after_page = False\"  \n",
      "Processing page: 4\n",
      "Sleeping for  12  sec before processing the next page to avoid quota issues. You can disable it: \"add_sleep_after_page = False\"  \n",
      "Processing page: 5\n",
      "Extracting image from page: 5, saved as: images/gemini_v1_5_report_technical.pdf_image_4_0_142.jpeg\n",
      "Extracting image from page: 5, saved as: images/gemini_v1_5_report_technical.pdf_image_4_1_143.jpeg\n",
      "Sleeping for  12  sec before processing the next page to avoid quota issues. You can disable it: \"add_sleep_after_page = False\"  \n",
      "Processing page: 6\n",
      "Extracting image from page: 6, saved as: images/gemini_v1_5_report_technical.pdf_image_5_0_148.jpeg\n",
      "Extracting image from page: 6, saved as: images/gemini_v1_5_report_technical.pdf_image_5_1_149.jpeg\n",
      "Sleeping for  12  sec before processing the next page to avoid quota issues. You can disable it: \"add_sleep_after_page = False\"  \n",
      "Processing page: 7\n",
      "Sleeping for  12  sec before processing the next page to avoid quota issues. You can disable it: \"add_sleep_after_page = False\"  \n",
      "Processing page: 8\n",
      "Sleeping for  12  sec before processing the next page to avoid quota issues. You can disable it: \"add_sleep_after_page = False\"  \n",
      "Processing page: 9\n",
      "Sleeping for  12  sec before processing the next page to avoid quota issues. You can disable it: \"add_sleep_after_page = False\"  \n",
      "Processing page: 10\n",
      "Sleeping for  12  sec before processing the next page to avoid quota issues. You can disable it: \"add_sleep_after_page = False\"  \n",
      "Processing page: 11\n",
      "Sleeping for  12  sec before processing the next page to avoid quota issues. You can disable it: \"add_sleep_after_page = False\"  \n",
      "Processing page: 12\n",
      "Sleeping for  12  sec before processing the next page to avoid quota issues. You can disable it: \"add_sleep_after_page = False\"  \n",
      "Processing page: 13\n",
      "Sleeping for  12  sec before processing the next page to avoid quota issues. You can disable it: \"add_sleep_after_page = False\"  \n",
      "Processing page: 14\n",
      "Sleeping for  12  sec before processing the next page to avoid quota issues. You can disable it: \"add_sleep_after_page = False\"  \n",
      "Processing page: 15\n",
      "Sleeping for  12  sec before processing the next page to avoid quota issues. You can disable it: \"add_sleep_after_page = False\"  \n",
      "Processing page: 16\n",
      "Sleeping for  12  sec before processing the next page to avoid quota issues. You can disable it: \"add_sleep_after_page = False\"  \n",
      "Processing page: 17\n",
      "Sleeping for  12  sec before processing the next page to avoid quota issues. You can disable it: \"add_sleep_after_page = False\"  \n",
      "Processing page: 18\n",
      "Sleeping for  12  sec before processing the next page to avoid quota issues. You can disable it: \"add_sleep_after_page = False\"  \n",
      "Processing page: 19\n",
      "Sleeping for  12  sec before processing the next page to avoid quota issues. You can disable it: \"add_sleep_after_page = False\"  \n",
      "Processing page: 20\n",
      "Sleeping for  12  sec before processing the next page to avoid quota issues. You can disable it: \"add_sleep_after_page = False\"  \n",
      "Processing page: 21\n",
      "Sleeping for  12  sec before processing the next page to avoid quota issues. You can disable it: \"add_sleep_after_page = False\"  \n",
      "Processing page: 22\n",
      "Sleeping for  12  sec before processing the next page to avoid quota issues. You can disable it: \"add_sleep_after_page = False\"  \n",
      "Processing page: 23\n",
      "Sleeping for  12  sec before processing the next page to avoid quota issues. You can disable it: \"add_sleep_after_page = False\"  \n",
      "Processing page: 24\n",
      "Sleeping for  12  sec before processing the next page to avoid quota issues. You can disable it: \"add_sleep_after_page = False\"  \n",
      "Processing page: 25\n",
      "Extracting image from page: 25, saved as: images/gemini_v1_5_report_technical.pdf_image_24_0_488.jpeg\n",
      "Sleeping for  12  sec before processing the next page to avoid quota issues. You can disable it: \"add_sleep_after_page = False\"  \n",
      "Processing page: 26\n",
      "Sleeping for  12  sec before processing the next page to avoid quota issues. You can disable it: \"add_sleep_after_page = False\"  \n",
      "Processing page: 27\n",
      "Sleeping for  12  sec before processing the next page to avoid quota issues. You can disable it: \"add_sleep_after_page = False\"  \n",
      "Processing page: 28\n",
      "Sleeping for  12  sec before processing the next page to avoid quota issues. You can disable it: \"add_sleep_after_page = False\"  \n",
      "Processing page: 29\n",
      "Sleeping for  12  sec before processing the next page to avoid quota issues. You can disable it: \"add_sleep_after_page = False\"  \n",
      "Processing page: 30\n",
      "Sleeping for  12  sec before processing the next page to avoid quota issues. You can disable it: \"add_sleep_after_page = False\"  \n",
      "Processing page: 31\n",
      "Sleeping for  12  sec before processing the next page to avoid quota issues. You can disable it: \"add_sleep_after_page = False\"  \n",
      "Processing page: 32\n",
      "Sleeping for  12  sec before processing the next page to avoid quota issues. You can disable it: \"add_sleep_after_page = False\"  \n",
      "Processing page: 33\n",
      "Sleeping for  12  sec before processing the next page to avoid quota issues. You can disable it: \"add_sleep_after_page = False\"  \n",
      "Processing page: 34\n",
      "Sleeping for  12  sec before processing the next page to avoid quota issues. You can disable it: \"add_sleep_after_page = False\"  \n",
      "Processing page: 35\n",
      "Sleeping for  12  sec before processing the next page to avoid quota issues. You can disable it: \"add_sleep_after_page = False\"  \n",
      "Processing page: 36\n",
      "Sleeping for  12  sec before processing the next page to avoid quota issues. You can disable it: \"add_sleep_after_page = False\"  \n",
      "Processing page: 37\n",
      "Sleeping for  12  sec before processing the next page to avoid quota issues. You can disable it: \"add_sleep_after_page = False\"  \n",
      "Processing page: 38\n",
      "Sleeping for  12  sec before processing the next page to avoid quota issues. You can disable it: \"add_sleep_after_page = False\"  \n",
      "Processing page: 39\n",
      "Sleeping for  12  sec before processing the next page to avoid quota issues. You can disable it: \"add_sleep_after_page = False\"  \n",
      "Processing page: 40\n",
      "Sleeping for  12  sec before processing the next page to avoid quota issues. You can disable it: \"add_sleep_after_page = False\"  \n",
      "Processing page: 41\n",
      "Sleeping for  12  sec before processing the next page to avoid quota issues. You can disable it: \"add_sleep_after_page = False\"  \n",
      "Processing page: 42\n",
      "Sleeping for  12  sec before processing the next page to avoid quota issues. You can disable it: \"add_sleep_after_page = False\"  \n",
      "Processing page: 43\n",
      "Sleeping for  12  sec before processing the next page to avoid quota issues. You can disable it: \"add_sleep_after_page = False\"  \n",
      "Processing page: 44\n",
      "Sleeping for  12  sec before processing the next page to avoid quota issues. You can disable it: \"add_sleep_after_page = False\"  \n",
      "Processing page: 45\n",
      "Extracting image from page: 45, saved as: images/gemini_v1_5_report_technical.pdf_image_44_0_606.jpeg\n",
      "Sleeping for  12  sec before processing the next page to avoid quota issues. You can disable it: \"add_sleep_after_page = False\"  \n",
      "Processing page: 46\n",
      "Sleeping for  12  sec before processing the next page to avoid quota issues. You can disable it: \"add_sleep_after_page = False\"  \n",
      "Processing page: 47\n",
      "Sleeping for  12  sec before processing the next page to avoid quota issues. You can disable it: \"add_sleep_after_page = False\"  \n",
      "Processing page: 48\n",
      "Sleeping for  12  sec before processing the next page to avoid quota issues. You can disable it: \"add_sleep_after_page = False\"  \n",
      "Processing page: 49\n",
      "Sleeping for  12  sec before processing the next page to avoid quota issues. You can disable it: \"add_sleep_after_page = False\"  \n",
      "Processing page: 50\n",
      "Sleeping for  12  sec before processing the next page to avoid quota issues. You can disable it: \"add_sleep_after_page = False\"  \n",
      "Processing page: 51\n",
      "Sleeping for  12  sec before processing the next page to avoid quota issues. You can disable it: \"add_sleep_after_page = False\"  \n",
      "Processing page: 52\n",
      "Sleeping for  12  sec before processing the next page to avoid quota issues. You can disable it: \"add_sleep_after_page = False\"  \n",
      "Processing page: 53\n",
      "Sleeping for  12  sec before processing the next page to avoid quota issues. You can disable it: \"add_sleep_after_page = False\"  \n",
      "Processing page: 54\n",
      "Sleeping for  12  sec before processing the next page to avoid quota issues. You can disable it: \"add_sleep_after_page = False\"  \n",
      "Processing page: 55\n",
      "Sleeping for  12  sec before processing the next page to avoid quota issues. You can disable it: \"add_sleep_after_page = False\"  \n",
      "Processing page: 56\n",
      "Sleeping for  12  sec before processing the next page to avoid quota issues. You can disable it: \"add_sleep_after_page = False\"  \n",
      "Processing page: 57\n",
      "Sleeping for  12  sec before processing the next page to avoid quota issues. You can disable it: \"add_sleep_after_page = False\"  \n",
      "Processing page: 58\n",
      "Sleeping for  12  sec before processing the next page to avoid quota issues. You can disable it: \"add_sleep_after_page = False\"  \n",
      "\n",
      " \n",
      " Sleeping for  30  sec before processing the next document to avoid quota issues. You can disable it: \"add_sleep_after_document = False\"  \n",
      "\n",
      "\n",
      " Processing the file: --------------------------------- data/gemma_technical_paper.pdf \n",
      "\n",
      "\n",
      "Processing page: 1\n",
      "Extracting image from page: 1, saved as: images/gemma_technical_paper.pdf_image_0_0_153.jpeg\n",
      "Sleeping for  12  sec before processing the next page to avoid quota issues. You can disable it: \"add_sleep_after_page = False\"  \n",
      "Processing page: 2\n",
      "Sleeping for  12  sec before processing the next page to avoid quota issues. You can disable it: \"add_sleep_after_page = False\"  \n",
      "Processing page: 3\n",
      "Sleeping for  12  sec before processing the next page to avoid quota issues. You can disable it: \"add_sleep_after_page = False\"  \n",
      "Processing page: 4\n",
      "Sleeping for  12  sec before processing the next page to avoid quota issues. You can disable it: \"add_sleep_after_page = False\"  \n",
      "Processing page: 5\n",
      "Sleeping for  12  sec before processing the next page to avoid quota issues. You can disable it: \"add_sleep_after_page = False\"  \n",
      "Processing page: 6\n",
      "Sleeping for  12  sec before processing the next page to avoid quota issues. You can disable it: \"add_sleep_after_page = False\"  \n",
      "Processing page: 7\n",
      "Sleeping for  12  sec before processing the next page to avoid quota issues. You can disable it: \"add_sleep_after_page = False\"  \n",
      "Processing page: 8\n",
      "Sleeping for  12  sec before processing the next page to avoid quota issues. You can disable it: \"add_sleep_after_page = False\"  \n",
      "Processing page: 9\n",
      "Sleeping for  12  sec before processing the next page to avoid quota issues. You can disable it: \"add_sleep_after_page = False\"  \n",
      "Processing page: 10\n",
      "Sleeping for  12  sec before processing the next page to avoid quota issues. You can disable it: \"add_sleep_after_page = False\"  \n",
      "Processing page: 11\n",
      "Sleeping for  12  sec before processing the next page to avoid quota issues. You can disable it: \"add_sleep_after_page = False\"  \n",
      "Processing page: 12\n",
      "Sleeping for  12  sec before processing the next page to avoid quota issues. You can disable it: \"add_sleep_after_page = False\"  \n",
      "Processing page: 13\n",
      "Sleeping for  12  sec before processing the next page to avoid quota issues. You can disable it: \"add_sleep_after_page = False\"  \n",
      "Processing page: 14\n",
      "Sleeping for  12  sec before processing the next page to avoid quota issues. You can disable it: \"add_sleep_after_page = False\"  \n",
      "Processing page: 15\n"
     ]
    }
   ],
   "source": [
    "%%time          \n",
    "                # Cell Magic Command %%time to output the execution time of the entire cell\n",
    "\n",
    "image_description_prompt = \"\"\"\n",
    "- You are a technical image analysis expert. \n",
    "- You will be provided with various types of images extracted from docs.\n",
    "- This docs include research papers, technical blogs, and more.\n",
    "- Your task is to generate concise, accurate descriptions of the images.\n",
    "- Please do not add any info you are not confident about.\n",
    "- Focus on capturing the key details, trends, or relationships depicted in the images.\n",
    "\n",
    "Important Guidelines:\n",
    "* Prioritize accuracy:  If you are uncertain about any detail, state \"Not visible\" instead of guessing.\n",
    "* Avoid hallucinations: Do not add info that is not directly supported by the image.\n",
    "* Be specific:          Use precise language to describe shapes, colors, textures, and any interactions depicted.\n",
    "* Consider context:     If the image is a screenshot or contains text, incorporate that info into description.\n",
    "\"\"\"\n",
    "\n",
    "safety_settings = {\n",
    "    HarmCategory.HARM_CATEGORY_HARASSMENT:        HarmBlockThreshold.BLOCK_ONLY_HIGH,\n",
    "    HarmCategory.HARM_CATEGORY_HATE_SPEECH:       HarmBlockThreshold.BLOCK_ONLY_HIGH,\n",
    "    HarmCategory.HARM_CATEGORY_SEXUALLY_EXPLICIT: HarmBlockThreshold.BLOCK_ONLY_HIGH,\n",
    "    HarmCategory.HARM_CATEGORY_DANGEROUS_CONTENT: HarmBlockThreshold.BLOCK_ONLY_HIGH,\n",
    "}\n",
    "\n",
    "\n",
    "# Remove pre-exsisting images folder (here we are running the logic from scratch)\n",
    "!rm -rf images/ \n",
    "\n",
    "# Extract text and image metadata from the PDF docs\n",
    "text_metadata_df, image_metadata_df = get_document_metadata(\n",
    "    model_15p,  \n",
    "    pdf_folder_path           = \"data\",\n",
    "    image_save_dir            = \"images\",\n",
    "    embedding_size            = 1408,  # dimension must be one of 128, 256, 512, 1408.\n",
    "    add_sleep_after_page      = True, \n",
    "    sleep_time_after_page     = 12,    # in seconds, increase value if getting quota issues\n",
    "    add_sleep_after_document  = True, \n",
    "    sleep_time_after_document = 30,    # in seconds, increase value if getting quota issues\n",
    "    image_description_prompt  = image_description_prompt,\n",
    "    safety_settings           = safety_settings,        \n",
    "    generation_config         = GenerationConfig(temperature=0.2, max_output_tokens=2048) #fady\n",
    ")\n"
   ]
  },
  {
   "cell_type": "markdown",
   "metadata": {
    "id": "sWtOx1wb86Az"
   },
   "source": [
    "We can check additional Gemini API parameters and safety setting while building metadata:\n",
    "- [Gemini API parameters](https://cloud.google.com/vertex-ai/docs/generative-ai/model-reference/gemini)\n",
    "- [Safety settings and thresholds](https://cloud.google.com/vertex-ai/docs/generative-ai/multimodal/configure-safety-attributes)\n",
    "- We can also pass parameters and safety setting to `get_gemini_response` function"
   ]
  },
  {
   "cell_type": "markdown",
   "metadata": {
    "id": "tW3Ci1IL8wSW",
    "tags": [],
    "toc-hr-collapsed": true
   },
   "source": [
    "## Load pre-computed metadata of text and images from source document\n",
    "**If you are facing issues with Quota or want to focus on the outputs, we can load pre-computed metadata.**"
   ]
  },
  {
   "cell_type": "code",
   "execution_count": null,
   "metadata": {
    "collapsed": true,
    "id": "w1AGYOYb0In7",
    "jupyter": {
     "outputs_hidden": true
    },
    "tags": []
   },
   "outputs": [],
   "source": [
    "#To use this cell, uncomment by removing \"\"\" at the start and \"\"\" at the end\n",
    "\"\"\"\n",
    "import pickle\n",
    "\n",
    "# Load the pickle file\n",
    "with open(\"mrag_metadata.pkl\", \"rb\") as f:\n",
    "    data = pickle.load(f)\n",
    "\n",
    "# Extract the DataFrames\n",
    "print(type(data))\n",
    "text_metadata_df = data[\"text_metadata\"]\n",
    "image_metadata_df = data[\"image_metadata\"]\n",
    "\"\"\""
   ]
  },
  {
   "cell_type": "markdown",
   "metadata": {
    "id": "miBBoEXwh2rN"
   },
   "source": [
    "### Inspect the processed text metadata\n",
    "\n",
    "\n",
    "The following cell will produce a metadata table which describes the different parts of text metadata, including:\n",
    "\n",
    "- **text**: the page text\n",
    "- **text_embedding_page**: the embedding of the page text\n",
    "- **chunk_text**: the page text divided into smaller chunks\n",
    "- **chunk_number**: the index of each text chunk\n",
    "- **text_embedding_chunk**: the embedding of each text chunk"
   ]
  },
  {
   "cell_type": "code",
   "execution_count": null,
   "metadata": {
    "tags": []
   },
   "outputs": [],
   "source": [
    "print(text_metadata_df.shape)\n",
    "print(\"*****************************************************************************\")\n",
    "print(text_metadata_df.iloc[0, :]);\n",
    "print(\"*****************************************************************************\")\n",
    "print(text_metadata_df.iloc[1, :]);\n",
    "print(\"*****************************************************************************\")"
   ]
  },
  {
   "cell_type": "code",
   "execution_count": null,
   "metadata": {
    "tags": []
   },
   "outputs": [],
   "source": [
    "print(text_metadata_df.iloc[0, :][\"text\"]);\n",
    "print(\"*****************************************************************************\")\n",
    "print(text_metadata_df.iloc[0, :][\"text_embedding_page\"]);\n",
    "print(\"*****************************************************************************\")\n",
    "print(type(text_metadata_df.iloc[0, :][\"text_embedding_page\"]));\n",
    "print( len(text_metadata_df.iloc[0, :][\"text_embedding_page\"]));"
   ]
  },
  {
   "cell_type": "code",
   "execution_count": null,
   "metadata": {
    "tags": []
   },
   "outputs": [],
   "source": [
    "print(text_metadata_df.iloc[0, :][\"chunk_text\"]);\n",
    "print(\"*****************************************************************************\")\n",
    "print(text_metadata_df.iloc[0, :][\"text_embedding_chunk\"]);\n",
    "print(\"*****************************************************************************\")\n",
    "print(type(text_metadata_df.iloc[0, :][\"text_embedding_chunk\"]));\n",
    "print( len(text_metadata_df.iloc[0, :][\"text_embedding_chunk\"]));"
   ]
  },
  {
   "cell_type": "markdown",
   "metadata": {
    "id": "NjIQYI3mh2rO"
   },
   "source": [
    "### Inspect the processed image metadata\n",
    "The following cell will show the following metadata:\n",
    "- **img_desc**: Gemini-generated textual description of the image\n",
    "- **text_embedding_from_image_description**: text embedding of the generated textual description\n",
    "- **mm_embedding_from_img_only**: image embedding"
   ]
  },
  {
   "cell_type": "code",
   "execution_count": null,
   "metadata": {
    "tags": []
   },
   "outputs": [],
   "source": [
    "print(image_metadata_df.shape)\n",
    "print(\"*****************************************************************************\")\n",
    "print(image_metadata_df.iloc[0, :]);\n",
    "print(\"*****************************************************************************\")\n",
    "print(image_metadata_df.iloc[1, :]);\n",
    "print(\"*****************************************************************************\")"
   ]
  },
  {
   "cell_type": "code",
   "execution_count": null,
   "metadata": {
    "tags": []
   },
   "outputs": [],
   "source": [
    "print(image_metadata_df.iloc[0, :].img_desc)\n",
    "print(\"*****************************************************************************\")\n",
    "print(image_metadata_df.iloc[0, :].text_embedding_from_image_description)\n",
    "print(\"*****************************************************************************\")\n",
    "print(type(image_metadata_df.iloc[0, :].text_embedding_from_image_description))\n",
    "print( len(image_metadata_df.iloc[0, :].text_embedding_from_image_description))"
   ]
  },
  {
   "cell_type": "code",
   "execution_count": null,
   "metadata": {
    "tags": []
   },
   "outputs": [],
   "source": [
    "print(image_metadata_df.iloc[0, :].mm_embedding_from_img_only)\n",
    "print(\"*****************************************************************************\")\n",
    "print(type(image_metadata_df.iloc[0, :].mm_embedding_from_img_only))\n",
    "print( len(image_metadata_df.iloc[0, :].mm_embedding_from_img_only))"
   ]
  },
  {
   "cell_type": "markdown",
   "metadata": {
    "id": "iBhoOkutUtPr"
   },
   "source": [
    "## Import the helper functions to implement RAG\n",
    "We will import the following functions to implement RAG:\n",
    "1) **get_similar_text_from_query():** \n",
    "    - Given a text query, finds text from the doc which are relevant. \n",
    "    - It uses text embeddings from the metadata\n",
    "2) **print_text_to_text_citation():** \n",
    "    - Prints the source (citation) and details of the retrieved text.\n",
    "3) **get_similar_image_from_query():** \n",
    "    - Given an image, finds images from the doc which are relevant. \n",
    "    - It uses image embeddings from the metadata.\n",
    "4) **print_text_to_image_citation():** \n",
    "    - Prints the source (citation) and the details of retrieved images.\n",
    "5) **get_gemini_response():** \n",
    "    - Interacts with a Gemini to answer questions based on text and image inputs.\n",
    "6) **display_images():**  \n",
    "    - Displays a series of images."
   ]
  },
  {
   "cell_type": "code",
   "execution_count": null,
   "metadata": {
    "id": "Tngn_vrIKdE1",
    "tags": []
   },
   "outputs": [],
   "source": [
    "from multimodal_qa_with_rag_utils import (\n",
    "    get_similar_text_from_query,\n",
    "    print_text_to_text_citation,\n",
    "    \n",
    "    get_similar_image_from_query,\n",
    "    print_text_to_image_citation,\n",
    "    display_images,\n",
    "    \n",
    "    get_gemini_response,    \n",
    "    get_answer_from_qa_system, \n",
    ")"
   ]
  },
  {
   "cell_type": "markdown",
   "metadata": {
    "id": "c9jGEj6DY1Rj"
   },
   "source": [
    "- Before implementing a Multimodal QA Sys with Vertex AI, let's explore what we can achieve with just text or image embeddings. \n",
    "- This will set the foundation for implementing an mRAG Sys. "
   ]
  },
  {
   "cell_type": "markdown",
   "metadata": {
    "id": "KHuLlEvSKFWt",
    "tags": []
   },
   "source": [
    "# Text Search\n",
    "\n",
    "## Search similar text with text query"
   ]
  },
  {
   "cell_type": "code",
   "execution_count": null,
   "metadata": {
    "colab": {
     "base_uri": "https://localhost:8080/"
    },
    "executionInfo": {
     "elapsed": 5,
     "status": "ok",
     "timestamp": 1717656148876,
     "user": {
      "displayName": "",
      "userId": ""
     },
     "user_tz": -330
    },
    "id": "eEzP6Yyv7N-G",
    "outputId": "4cb21b58-fcec-4109-9258-43faa1017cb6",
    "tags": []
   },
   "outputs": [],
   "source": [
    "query = \"\"\"\n",
    "What are various med-gemini medical benchmarks that show its performance relative to other models?\n",
    "\"\"\"\n",
    "\n",
    "# Matche user text with \"chunk_embedding\" to find relevant chunks.\n",
    "matching_results_text = get_similar_text_from_query(\n",
    "    query, \n",
    "    text_metadata_df,\n",
    "    column_name=\"text_embedding_chunk\",\n",
    "    top_n=3,\n",
    ")\n",
    "print(type(matching_results_text))\n",
    "print( len(matching_results_text))\n",
    "for key, value in matching_results_text.items():\n",
    "    print(f\"{key}: {value}\")\n",
    "print(\"*****************************************************************************\")\n",
    "print_text_to_text_citation(matching_results_text, print_top=False)"
   ]
  },
  {
   "cell_type": "markdown",
   "metadata": {
    "id": "KY1J2sHr-N8f",
    "tags": []
   },
   "source": [
    "## Get answer with RAG"
   ]
  },
  {
   "cell_type": "code",
   "execution_count": null,
   "metadata": {
    "id": "ORCistIdDWoE",
    "tags": []
   },
   "outputs": [],
   "source": [
    "from rich.markdown import Markdown as rich_Markdown\n",
    "\n",
    "# All relevant text chunk found across docs based on user query\n",
    "all_chunk_text = [value[\"chunk_text\"] for _, value in matching_results_text.items()]\n",
    "print(type(all_chunk_text))\n",
    "print( len(all_chunk_text))\n",
    "\n",
    "context = \"\\n\".join(all_chunk_text)\n",
    "\n",
    "prompt = f\"\"\"\n",
    "    Answer the question with the given context. \n",
    "    If the specific answer is not in the context, please answer \"I don't know\".\n",
    "    Question: {query}\n",
    "    Context: {context}\n",
    "    Answer:\n",
    "\"\"\""
   ]
  },
  {
   "cell_type": "code",
   "execution_count": null,
   "metadata": {
    "colab": {
     "base_uri": "https://localhost:8080/",
     "height": 136
    },
    "executionInfo": {
     "elapsed": 1478,
     "status": "ok",
     "timestamp": 1717656150350,
     "user": {
      "displayName": "",
      "userId": ""
     },
     "user_tz": -330
    },
    "id": "m8jyc5_SAwlF",
    "outputId": "86047b5b-1176-4480-d61e-9e388259bc5e",
    "tags": []
   },
   "outputs": [],
   "source": [
    "%%time\n",
    "gemini_response = get_gemini_response(\n",
    "    model_15p,        # Use Gemini 1.5 Pro\n",
    "    model_input       = prompt,\n",
    "    safety_settings   = safety_settings,\n",
    "    generation_config = GenerationConfig(temperature=1, max_output_tokens=8192),\n",
    ")\n",
    "rich_Markdown(gemini_response)"
   ]
  },
  {
   "cell_type": "code",
   "execution_count": null,
   "metadata": {
    "colab": {
     "base_uri": "https://localhost:8080/",
     "height": 100
    },
    "executionInfo": {
     "elapsed": 1222,
     "status": "ok",
     "timestamp": 1717656151570,
     "user": {
      "displayName": "",
      "userId": ""
     },
     "user_tz": -330
    },
    "id": "0rKLLKt1An97",
    "outputId": "105fdca8-b21f-43e8-a69e-db8e740dc942",
    "tags": []
   },
   "outputs": [],
   "source": [
    "%%time\n",
    "gemini_response = get_gemini_response(\n",
    "    model_15f,       # Use Gemini 1.5 Flash\n",
    "    model_input       = prompt,\n",
    "    safety_settings   = safety_settings,\n",
    "    generation_config = GenerationConfig(temperature=1, max_output_tokens=2048),\n",
    ")\n",
    "rich_Markdown(gemini_response)"
   ]
  },
  {
   "cell_type": "markdown",
   "metadata": {
    "id": "uXm271jdD-Rl"
   },
   "source": [
    "## Search similar images with text query based on image description\n",
    "- Sometimes the Plain text search and RAG don't provide the detailed answer\n",
    "- The info may be visually represented in a table or another image format\n",
    "- The goal here also is to find an image similar to the text query\n",
    "- We may also print the citations to verify"
   ]
  },
  {
   "cell_type": "code",
   "execution_count": null,
   "metadata": {
    "colab": {
     "base_uri": "https://localhost:8080/",
     "height": 1000
    },
    "executionInfo": {
     "elapsed": 854,
     "status": "ok",
     "timestamp": 1717656152420,
     "user": {
      "displayName": "",
      "userId": ""
     },
     "user_tz": -330
    },
    "id": "knj4qQ4xni24",
    "outputId": "ce22e3ec-aca8-4915-cfc9-20d1bcda8485",
    "tags": []
   },
   "outputs": [],
   "source": [
    "matched_images = get_similar_image_from_query(\n",
    "    text_metadata_df,\n",
    "    image_metadata_df,\n",
    "    query              = query,\n",
    "    column_name        = \"text_embedding_from_image_description\", \n",
    "    image_emb          = False,  # Use text embedding instead of image embedding\n",
    "    top_n              = 2,\n",
    ")\n",
    "\n",
    "print_text_to_image_citation(matched_images, print_top=False)\n",
    "print(\"*****************************************************************************\")\n",
    "display_images(\n",
    "    [matched_images[0][\"img_path\"], matched_images[1][\"img_path\"]],\n",
    "    #resize_ratio=0.5,\n",
    ")\n",
    "print(\"*****************************************************************************\")\n",
    "print(type(matched_images))\n",
    "print( len(matched_images))"
   ]
  },
  {
   "cell_type": "markdown",
   "metadata": {},
   "source": [
    "## Get answer with RAG"
   ]
  },
  {
   "cell_type": "code",
   "execution_count": null,
   "metadata": {
    "colab": {
     "base_uri": "https://localhost:8080/",
     "height": 1000
    },
    "executionInfo": {
     "elapsed": 14967,
     "status": "ok",
     "timestamp": 1717656167385,
     "user": {
      "displayName": "",
      "userId": ""
     },
     "user_tz": -330
    },
    "id": "HuRD1lZ8RNYP",
    "outputId": "9e3ea7be-b760-4771-b028-6da6b661c11f",
    "tags": []
   },
   "outputs": [],
   "source": [
    "%%time\n",
    "\n",
    "txt_prompt = f\"\"\"\n",
    "    Answer the question and explain results with the given Images:\n",
    "    Question: {query}\n",
    "    Images:\n",
    "\"\"\"\n",
    "\n",
    "prompt = [\n",
    "    txt_prompt,\n",
    "    \"Image:\",       matched_images[0][\"image_object\"],\n",
    "    \"Description:\", matched_images[0][\"image_description\"],\n",
    "    \"Image:\",       matched_images[1][\"image_object\"],\n",
    "    \"Description:\", matched_images[1][\"image_description\"],\n",
    "]\n",
    "\n",
    "gemini_response = get_gemini_response(\n",
    "    model_15p,        # Use Gemini 1.5 Pro\n",
    "    model_input       = prompt,\n",
    "    safety_settings   = safety_settings,\n",
    "    generation_config = GenerationConfig(temperature=1, max_output_tokens=8192),\n",
    ")\n",
    "rich_Markdown(gemini_response)"
   ]
  },
  {
   "cell_type": "markdown",
   "metadata": {
    "id": "oDd9rE4NrRod"
   },
   "source": [
    "# Image Search\n",
    "## Search similar image with image input \n",
    "- For demonstration, we will only find similar images in a single doc\n",
    "- However, we can scale to match (find relevant images) across multiple docs"
   ]
  },
  {
   "cell_type": "code",
   "execution_count": null,
   "metadata": {
    "colab": {
     "base_uri": "https://localhost:8080/",
     "height": 926
    },
    "executionInfo": {
     "elapsed": 8,
     "status": "ok",
     "timestamp": 1717656167385,
     "user": {
      "displayName": "",
      "userId": ""
     },
     "user_tz": -330
    },
    "id": "DJhhS5eZw7QI",
    "outputId": "b8aa4e36-289d-4637-b884-430e33d52b45",
    "tags": []
   },
   "outputs": [],
   "source": [
    "image_query_path = \"images/gemini_v1_5_report_technical.pdf_image_4_0_142.jpeg\"\n",
    "display_images([image_query_path]) "
   ]
  },
  {
   "cell_type": "code",
   "execution_count": null,
   "metadata": {
    "colab": {
     "base_uri": "https://localhost:8080/",
     "height": 843
    },
    "executionInfo": {
     "elapsed": 2294,
     "status": "ok",
     "timestamp": 1717656169675,
     "user": {
      "displayName": "",
      "userId": ""
     },
     "user_tz": -330
    },
    "id": "nZcU7vZC-8vr",
    "outputId": "1cd88a31-99a6-4e84-e3cb-1553e20be884",
    "tags": []
   },
   "outputs": [],
   "source": [
    "# Search for similar images based on input image and Image Embedding\n",
    "\n",
    "matched_images = get_similar_image_from_query(\n",
    "    text_metadata_df,\n",
    "    image_metadata_df,\n",
    "    query              = query,\n",
    "    column_name        = \"mm_embedding_from_img_only\",\n",
    "    image_emb          = True, #Previous: False\n",
    "    image_query_path   = image_query_path, \n",
    "    embedding_size     = 1408, \n",
    "    top_n              = 2,\n",
    ")\n",
    "print_text_to_image_citation(matched_images, print_top=True)   \n",
    "print(\"*****************************************************************************\")\n",
    "display_images([matched_images[0][\"img_path\"]]) "
   ]
  },
  {
   "cell_type": "markdown",
   "metadata": {
    "id": "lUnsv5Co6pJF"
   },
   "source": [
    "## Another Example\n",
    "In this example, we will do the following:\n",
    "1) Search all the images for a specific query\n",
    "2) Send those images to Gemini 1.5 Pro to ask multiple questions, where it has to compare among those images and provide answers"
   ]
  },
  {
   "cell_type": "code",
   "execution_count": null,
   "metadata": {
    "id": "E6AHCSwojyX0",
    "tags": []
   },
   "outputs": [],
   "source": [
    "matched_images = get_similar_image_from_query(\n",
    "    text_metadata_df,\n",
    "    image_metadata_df,\n",
    "    query              = \"Show me all the images that can describe LLMs and TPU v5e scaling\",\n",
    "    column_name        = \"text_embedding_from_image_description\", \n",
    "    image_emb          = False,    \n",
    "    top_n              = 2,\n",
    ")\n",
    "print_text_to_image_citation(matched_images, print_top=False)\n",
    "print(\"*****************************************************************************\")\n",
    "display_images([ \n",
    "    matched_images[0][\"img_path\"], \n",
    "    matched_images[1][\"img_path\"]\n",
    "])"
   ]
  },
  {
   "cell_type": "code",
   "execution_count": null,
   "metadata": {
    "colab": {
     "base_uri": "https://localhost:8080/",
     "height": 1000
    },
    "executionInfo": {
     "elapsed": 20161,
     "status": "ok",
     "timestamp": 1717656189834,
     "user": {
      "displayName": "",
      "userId": ""
     },
     "user_tz": -330
    },
    "id": "wYkzpB4PTSfm",
    "outputId": "89e33976-ee7f-4f92-9ca7-93cc7204cbed",
    "tags": []
   },
   "outputs": [],
   "source": [
    "%%time\n",
    "\n",
    "query = \"\"\"\n",
    " - How does the scaling efficiency of TPU v5e compare to the overall growth in LLM model size over time?\n",
    " - How does the model size impact the observed Per-chip performance and EMFU \n",
    "    for a fixed number of TPU v5e chips (e.g., 256)?\n",
    " - For the INT8 Quant training with 32B parameters, \n",
    "    how does its high EMFU relate to the observed TFLOP/chip/s?\n",
    " - How does the \"per device batch (seq)\" for a 16B model compare to a 128B model, \n",
    "    and how does this affect the \"Total observed Perf\"?\n",
    " - How might the MFU be impacted by increasing LLM model size?\n",
    " \"\"\"\n",
    "\n",
    "txt_prompt = f\"\"\"\n",
    "Task: Answer the following questions in detail, \n",
    "providing clear reasoning and evidence from the images in bullet points.\n",
    "\n",
    "Instructions:\n",
    "1. Analyze the provided images focusing on the relationship between \n",
    "       a) TPU v5e scaling efficiency, \n",
    "       b) LLM model size growth, \n",
    "       c) performance metrics, and \n",
    "       d) quantization effects.\n",
    "2. Answer the following questions in detail, \n",
    "       providing clear reasoning and evidence from the images in bullet points\n",
    "3. Cite the image sources to support your explanations. Mention the file name.\n",
    "\n",
    "Additional Considerations:\n",
    "* Clearly define any technical terms within your answers for better understanding.\n",
    "* Use specific examples and data points from the images to support your explanations.\n",
    "* Feel free to request additional info or clarification if the images are unclear or ambiguous.\n",
    "\n",
    "Question:\n",
    "{query}\n",
    "\n",
    "\"\"\"\n",
    "\n",
    "prompt = [\n",
    "    txt_prompt,\n",
    "    \"Images:\",  matched_images[0][\"image_object\"], matched_images[1][\"image_object\"],\n",
    "]\n",
    "\n",
    "gemini_response = get_gemini_response(\n",
    "    model_15p,        # Use Gemini 1.5 Pro\n",
    "    model_input       = prompt,\n",
    "    safety_settings   = safety_settings,\n",
    "    generation_config = GenerationConfig(temperature=1, max_output_tokens=8192),\n",
    ")\n",
    "rich_Markdown(gemini_response)"
   ]
  },
  {
   "cell_type": "markdown",
   "metadata": {
    "id": "efJPPrzRhvIT",
    "tags": []
   },
   "source": [
    "# Building Multimodal QA System with mRAG\n",
    "\n",
    "Let's bring everything together to implement multimodal RAG. We will use all the elements that we have explored in previous sections to implement the multimodal RAG. These are the steps:\n",
    "\n",
    "1) The user gives a query in text format where the expected info is available in the docs.\n",
    "2) Find all text chunks from the pages in the docs.\n",
    "3) Find all similar images from the pages based on the user query.\n",
    "4) Combine all similar text and images found in steps 2 and 3.\n",
    "5) With the help of Gemini, we can pass the user query with text and image context. We can also add a specific instructions the model should remember while answering the user query.\n",
    "6) Gemini produces the answer, and we can print the citations to check all relevant text and images used to address the query."
   ]
  },
  {
   "cell_type": "markdown",
   "metadata": {
    "id": "EI62Hzuw_0_b"
   },
   "source": [
    "## Step 1: User query"
   ]
  },
  {
   "cell_type": "code",
   "execution_count": null,
   "metadata": {
    "id": "XvTKFwOPHLQ_",
    "tags": []
   },
   "outputs": [],
   "source": [
    "# this time we are not passing any images, but just a simple text query.\n",
    "print(query)"
   ]
  },
  {
   "cell_type": "markdown",
   "metadata": {
    "id": "UUqlkKUaYvZA"
   },
   "source": [
    "## Step 2: Get all relevant text chunks"
   ]
  },
  {
   "cell_type": "code",
   "execution_count": null,
   "metadata": {
    "id": "r65yBb5gR_NG",
    "tags": []
   },
   "outputs": [],
   "source": [
    "matched_text = get_similar_text_from_query(\n",
    "    query,\n",
    "    text_metadata_df,\n",
    "    column_name      = \"text_embedding_chunk\",\n",
    "    top_n            = 20,\n",
    ")"
   ]
  },
  {
   "cell_type": "markdown",
   "metadata": {
    "id": "mIgXgVIpYzxj"
   },
   "source": [
    "## Step 3: Get all relevant images"
   ]
  },
  {
   "cell_type": "code",
   "execution_count": null,
   "metadata": {
    "id": "wzu5Gf4yR_J4",
    "tags": []
   },
   "outputs": [],
   "source": [
    "matched_images = get_similar_image_from_query(\n",
    "    text_metadata_df,\n",
    "    image_metadata_df,\n",
    "    query       = query,\n",
    "    column_name = \"text_embedding_from_image_description\",\n",
    "    image_emb   = False,\n",
    "    top_n       = 10,\n",
    ")"
   ]
  },
  {
   "cell_type": "markdown",
   "metadata": {
    "id": "RhUpWlGAY2uG"
   },
   "source": [
    "## Step 4: Create context_text and context_images"
   ]
  },
  {
   "cell_type": "code",
   "execution_count": null,
   "metadata": {
    "id": "B_EEuuLCe6Y5",
    "tags": []
   },
   "outputs": [],
   "source": [
    "txt_prompt = \"\"\"\n",
    "Task: Answer the following questions in detail, \n",
    "        providing clear reasoning and evidence from the images and text in bullet points.\n",
    "\n",
    "Instructions:\n",
    "1. **Analyze:** Carefully examine the provided images and text context.\n",
    "2. **Synthesize:** Integrate information from both the visual and textual elements.\n",
    "3. **Reason:**  Deduce logical connections and inferences to address the questions.\n",
    "4. **Respond:** Provide a concise, accurate answers in the following format:\n",
    "   * **Question:** [Question]\n",
    "   * **Answer:** [Direct response to the question]\n",
    "   * **Explanation:** [Bullet-point reasoning steps if applicable]\n",
    "   * **Source** [name of the file, page, image from where the information is citied]\n",
    "\n",
    "5. **Ambiguity:** If the context is insufficient to answer, respond \"Not enough context to answer.\"\n",
    "\n",
    "\"\"\"\n",
    "\n",
    "prompt = [\n",
    "    txt_prompt,\n",
    "    \"Questions: \", query,\n",
    "    \"Image Context: \",\n",
    "]\n",
    "for _, value in matched_images.items():\n",
    "    prompt.extend([\n",
    "        \"Image Path: \",        value[\"img_path\"],\n",
    "        \"Image Description: \", value[\"image_description\"],\n",
    "        \"Image:\",              value[\"image_object\"],\n",
    "    ])\n",
    "\n",
    "text_context = [\"Text Context: \"]\n",
    "for key, value in matched_text.items():\n",
    "    text_context.extend([\n",
    "        \"Text Source: \", f\"\"\"file_name: \"{value[\"file_name\"]}\", Page: \"{value[\"page_num\"]}\" \"\"\",\n",
    "        \"Text:\",      value[\"chunk_text\"],\n",
    "    ])\n",
    "    \n",
    "prompt.extend(text_context)"
   ]
  },
  {
   "cell_type": "markdown",
   "metadata": {
    "id": "rHrtodcBAEu9",
    "tags": []
   },
   "source": [
    "## Step 5: Pass context to Gemini"
   ]
  },
  {
   "cell_type": "code",
   "execution_count": null,
   "metadata": {
    "colab": {
     "base_uri": "https://localhost:8080/",
     "height": 881
    },
    "executionInfo": {
     "elapsed": 23441,
     "status": "ok",
     "timestamp": 1717656213273,
     "user": {
      "displayName": "",
      "userId": ""
     },
     "user_tz": -330
    },
    "id": "aZuhtJu7fW4n",
    "outputId": "7dd25f28-f32e-4f30-c402-9f3755f31f2f",
    "tags": []
   },
   "outputs": [],
   "source": [
    "gemini_response = get_gemini_response(\n",
    "    model_15p,        # Use Gemini 1.5 Pro\n",
    "    model_input       = prompt, \n",
    "    safety_settings   = safety_settings,\n",
    "    generation_config = GenerationConfig(temperature=1, max_output_tokens=8192),\n",
    ")\n",
    "rich_Markdown(gemini_response)"
   ]
  },
  {
   "cell_type": "markdown",
   "metadata": {
    "id": "L0FtXYl1fzKh"
   },
   "source": [
    "## Step 6: Print citations and references [Optional]"
   ]
  },
  {
   "cell_type": "code",
   "execution_count": null,
   "metadata": {
    "id": "IYRLQ47or1I8",
    "tags": []
   },
   "outputs": [],
   "source": [
    "display_images([\n",
    "    matched_images[0][\"img_path\"],\n",
    "    matched_images[1][\"img_path\"],\n",
    "    matched_images[2][\"img_path\"],\n",
    "    matched_images[3][\"img_path\"],\n",
    "    matched_images[5][\"img_path\"],\n",
    "])"
   ]
  },
  {
   "cell_type": "code",
   "execution_count": null,
   "metadata": {
    "id": "buwd_gp6HJ5K",
    "tags": []
   },
   "outputs": [],
   "source": [
    "print_text_to_image_citation(matched_images, print_top=True)"
   ]
  },
  {
   "cell_type": "code",
   "execution_count": null,
   "metadata": {
    "id": "06vYM4MOHJ1-",
    "tags": []
   },
   "outputs": [],
   "source": [
    "print_text_to_text_citation(matched_text, print_top=True)"
   ]
  },
  {
   "cell_type": "markdown",
   "metadata": {
    "id": "U82wS4nIB8IS"
   },
   "source": [
    "# More questions with Multimodal QA System"
   ]
  },
  {
   "cell_type": "code",
   "execution_count": null,
   "metadata": {
    "colab": {
     "base_uri": "https://localhost:8080/",
     "height": 1000
    },
    "executionInfo": {
     "elapsed": 24067,
     "status": "ok",
     "timestamp": 1717656237338,
     "user": {
      "displayName": "",
      "userId": ""
     },
     "user_tz": -330
    },
    "id": "ZAyQVQ54B8X0",
    "outputId": "b79c75b7-0a53-44b0-eb6b-ff565b8b3fca",
    "tags": []
   },
   "outputs": [],
   "source": [
    "# this time we are not passing any images, but just a simple text query.\n",
    "\n",
    "query = \"\"\"\n",
    "Question 1: \n",
    "Imagine a patient presents with new onset prurigo nodularis.\n",
    "Could Med-Gemini-M 1.5 be used to analyze dermatological images \n",
    "  of the patient's lesions in conjunction with a comprehensive history taken\n",
    "  from an EHR dialogue to help a clinician reach a diagnosis and develop a treatment plan?\n",
    "What are the limitations and potential ethical considerations of using the model in this way?\n",
    "\n",
    "Question 2: \n",
    "The paper focuses on uncertainty-guided search for text-based reasoning tasks.\n",
    "How could this approach be extended to multimodal tasks?\n",
    "For instance, if Med-Gemini-M 1.5 encounters uncertainty when analyzing a dermatology image, \n",
    "  could it generate queries to search for \n",
    "  relevant visual examples or supplemental clinical info to refine its interpretation?\n",
    "\n",
    "Question 3:  \n",
    "Considering the potential benefits and risks highlighted in the paper, \n",
    "  what specific steps should be taken during the development, validation, and deployment \n",
    "  of Med-Gemini models to ensure they are used safely, fairly, and effectively \n",
    "  in real-world clinical settings?\n",
    "How can these steps be informed by ongoing collaboration between \n",
    " researchers, clinicians, regulators, and patient communities?\n",
    "\"\"\"\n",
    "\n",
    "(response, matched_text, matched_images) = get_answer_from_qa_system(\n",
    "    query,\n",
    "    text_metadata_df,\n",
    "    image_metadata_df,\n",
    "    top_n_text        = 10,\n",
    "    top_n_image       = 5,\n",
    "    model             = model_15p,\n",
    "    safety_settings   = safety_settings,\n",
    "    generation_config = GenerationConfig(temperature=1, max_output_tokens=8192),\n",
    ")\n",
    "\n",
    "rich_Markdown(response)"
   ]
  },
  {
   "cell_type": "code",
   "execution_count": null,
   "metadata": {
    "colab": {
     "base_uri": "https://localhost:8080/",
     "height": 1000
    },
    "executionInfo": {
     "elapsed": 18207,
     "status": "ok",
     "timestamp": 1717656255541,
     "user": {
      "displayName": "",
      "userId": ""
     },
     "user_tz": -330
    },
    "id": "dTHdui6jCHzc",
    "outputId": "316d45cd-b4e3-4e20-db47-b052f32eef24",
    "tags": []
   },
   "outputs": [],
   "source": [
    "query = \"\"\"\n",
    "Question 1: \n",
    "How does the mixture-of-experts architecture in Gemini 1.5 Pro contribute to \n",
    "  its ability to handle long context while maintaining performance on core capabilities? \n",
    "Discuss the potential trade-offs involved.\n",
    "\n",
    "Question 2: \n",
    "Gemini 1.5 Pro incorporates various safety mitigations, \n",
    "  including supervised fine-tuning and reinforcement learning.\n",
    "Discuss the effectiveness of these mitigations \n",
    "  in addressing content safety and representational harms in both text-to-text and\n",
    "image-to-text modalities. How can these evaluations be improved?\n",
    "\n",
    "Question 3: \n",
    "Gemini 1.5 Pro demonstrates surprising in-context language learning capabilities for Kalamang,\n",
    "  a low-resource language. \n",
    "What are the implications of this finding for language preservation and revitalization?\n",
    "What challenges need to be addressed for broader applicability of this approach?\n",
    "\"\"\"\n",
    "\n",
    "(response, matched_text, matched_images) = get_answer_from_qa_system(\n",
    "    query,\n",
    "    text_metadata_df,\n",
    "    image_metadata_df,\n",
    "    top_n_text        = 10,\n",
    "    top_n_image       = 5,\n",
    "    model             = model_15p,\n",
    "    safety_settings   = safety_settings,\n",
    "    generation_config = GenerationConfig(temperature=1, max_output_tokens=8192),\n",
    ")\n",
    "\n",
    "rich_Markdown(response)"
   ]
  }
 ],
 "metadata": {
  "colab": {
   "name": "building_DIY_multimodal_qa_system_with_mRAG.ipynb",
   "provenance": []
  },
  "environment": {
   "kernel": "python3",
   "name": "tf2-cpu.2-11.m123",
   "type": "gcloud",
   "uri": "us-docker.pkg.dev/deeplearning-platform-release/gcr.io/tf2-cpu.2-11:m123"
  },
  "kernelspec": {
   "display_name": "Python 3 (Local)",
   "language": "python",
   "name": "python3"
  },
  "language_info": {
   "codemirror_mode": {
    "name": "ipython",
    "version": 3
   },
   "file_extension": ".py",
   "mimetype": "text/x-python",
   "name": "python",
   "nbconvert_exporter": "python",
   "pygments_lexer": "ipython3",
   "version": "3.10.14"
  },
  "toc-autonumbering": true,
  "toc-showtags": false
 },
 "nbformat": 4,
 "nbformat_minor": 4
}
